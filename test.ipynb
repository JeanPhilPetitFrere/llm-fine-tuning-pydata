{
 "cells": [
  {
   "cell_type": "code",
   "execution_count": 4,
   "metadata": {},
   "outputs": [],
   "source": [
    "from datasets import load_dataset\n",
    "import pandas as pd\n",
    "from  sklearn.model_selection import train_test_split\n"
   ]
  },
  {
   "cell_type": "code",
   "execution_count": 5,
   "metadata": {},
   "outputs": [
    {
     "name": "stderr",
     "output_type": "stream",
     "text": [
      "/opt/homebrew/Caskroom/miniconda/base/envs/pydata/lib/python3.11/site-packages/datasets/table.py:1421: FutureWarning: promote has been superseded by promote_options='default'.\n",
      "  table = cls._concat_blocks(blocks, axis=0)\n"
     ]
    }
   ],
   "source": [
    "dataset = load_dataset(\"vgoldberg/longform_article_summarization\")"
   ]
  },
  {
   "cell_type": "code",
   "execution_count": 6,
   "metadata": {},
   "outputs": [
    {
     "data": {
      "text/plain": [
       "DatasetDict({\n",
       "    train: Dataset({\n",
       "        features: ['text', 'summary'],\n",
       "        num_rows: 105256\n",
       "    })\n",
       "})"
      ]
     },
     "execution_count": 6,
     "metadata": {},
     "output_type": "execute_result"
    }
   ],
   "source": [
    "dataset"
   ]
  },
  {
   "cell_type": "code",
   "execution_count": 7,
   "metadata": {},
   "outputs": [
    {
     "data": {
      "text/html": [
       "<div>\n",
       "<style scoped>\n",
       "    .dataframe tbody tr th:only-of-type {\n",
       "        vertical-align: middle;\n",
       "    }\n",
       "\n",
       "    .dataframe tbody tr th {\n",
       "        vertical-align: top;\n",
       "    }\n",
       "\n",
       "    .dataframe thead th {\n",
       "        text-align: right;\n",
       "    }\n",
       "</style>\n",
       "<table border=\"1\" class=\"dataframe\">\n",
       "  <thead>\n",
       "    <tr style=\"text-align: right;\">\n",
       "      <th></th>\n",
       "      <th>text</th>\n",
       "      <th>summary</th>\n",
       "    </tr>\n",
       "  </thead>\n",
       "  <tbody>\n",
       "    <tr>\n",
       "      <th>0</th>\n",
       "      <td>The main camping area from the ferris wheel at...</td>\n",
       "      <td>– A person has died while attending the Bonnar...</td>\n",
       "    </tr>\n",
       "    <tr>\n",
       "      <th>1</th>\n",
       "      <td>clinically , osteoarthritis ( oa ) , or degene...</td>\n",
       "      <td>a major symptom of patients with osteoarthriti...</td>\n",
       "    </tr>\n",
       "    <tr>\n",
       "      <th>2</th>\n",
       "      <td>SECTION 1. SHORT TITLE.\\n\\n    This Act may be...</td>\n",
       "      <td>Independent and Effective Federal Defenders Ac...</td>\n",
       "    </tr>\n",
       "    <tr>\n",
       "      <th>3</th>\n",
       "      <td>in this paper , we give further consideration ...</td>\n",
       "      <td>we consider a family of multi - phase stefan ...</td>\n",
       "    </tr>\n",
       "    <tr>\n",
       "      <th>4</th>\n",
       "      <td>a pseudoaneurysm is an extra - luminal collect...</td>\n",
       "      <td>uterine artery pseudoaneurysm is a rare cause ...</td>\n",
       "    </tr>\n",
       "    <tr>\n",
       "      <th>...</th>\n",
       "      <td>...</td>\n",
       "      <td>...</td>\n",
       "    </tr>\n",
       "    <tr>\n",
       "      <th>105251</th>\n",
       "      <td>in order to recapitulate the lytic is in an al...</td>\n",
       "      <td>natural killer ( nk ) cells are innate immune ...</td>\n",
       "    </tr>\n",
       "    <tr>\n",
       "      <th>105252</th>\n",
       "      <td>during the first toronto sars outbreak in marc...</td>\n",
       "      <td>we reinterviewed healthcare workers who had be...</td>\n",
       "    </tr>\n",
       "    <tr>\n",
       "      <th>105253</th>\n",
       "      <td>the lunar cherenkov ( lc ) technique , in whic...</td>\n",
       "      <td>lunaska ( lunar uhe neutrino astrophysics wit...</td>\n",
       "    </tr>\n",
       "    <tr>\n",
       "      <th>105254</th>\n",
       "      <td>University of Westminster suspends all student...</td>\n",
       "      <td>– After the Islamic State terrorist known as J...</td>\n",
       "    </tr>\n",
       "    <tr>\n",
       "      <th>105255</th>\n",
       "      <td>SECTION 1. SHORT TITLE.\\n\\n    This Act may be...</td>\n",
       "      <td>Phantom Fuel Reform Act This bill amends the C...</td>\n",
       "    </tr>\n",
       "  </tbody>\n",
       "</table>\n",
       "<p>105256 rows × 2 columns</p>\n",
       "</div>"
      ],
      "text/plain": [
       "                                                     text  \\\n",
       "0       The main camping area from the ferris wheel at...   \n",
       "1       clinically , osteoarthritis ( oa ) , or degene...   \n",
       "2       SECTION 1. SHORT TITLE.\\n\\n    This Act may be...   \n",
       "3       in this paper , we give further consideration ...   \n",
       "4       a pseudoaneurysm is an extra - luminal collect...   \n",
       "...                                                   ...   \n",
       "105251  in order to recapitulate the lytic is in an al...   \n",
       "105252  during the first toronto sars outbreak in marc...   \n",
       "105253  the lunar cherenkov ( lc ) technique , in whic...   \n",
       "105254  University of Westminster suspends all student...   \n",
       "105255  SECTION 1. SHORT TITLE.\\n\\n    This Act may be...   \n",
       "\n",
       "                                                  summary  \n",
       "0       – A person has died while attending the Bonnar...  \n",
       "1       a major symptom of patients with osteoarthriti...  \n",
       "2       Independent and Effective Federal Defenders Ac...  \n",
       "3        we consider a family of multi - phase stefan ...  \n",
       "4       uterine artery pseudoaneurysm is a rare cause ...  \n",
       "...                                                   ...  \n",
       "105251  natural killer ( nk ) cells are innate immune ...  \n",
       "105252  we reinterviewed healthcare workers who had be...  \n",
       "105253   lunaska ( lunar uhe neutrino astrophysics wit...  \n",
       "105254  – After the Islamic State terrorist known as J...  \n",
       "105255  Phantom Fuel Reform Act This bill amends the C...  \n",
       "\n",
       "[105256 rows x 2 columns]"
      ]
     },
     "execution_count": 7,
     "metadata": {},
     "output_type": "execute_result"
    }
   ],
   "source": [
    "df = pd.DataFrame(dataset[\"train\"])\n",
    "df"
   ]
  },
  {
   "cell_type": "code",
   "execution_count": 8,
   "metadata": {},
   "outputs": [],
   "source": [
    "train_ratio = 0.75\n",
    "validation_ratio = 0.15\n",
    "test_ratio = 0.10\n",
    "\n",
    "# train is now 75% of the entire data set\n",
    "train, test = train_test_split(df, test_size=1 - train_ratio)\n",
    "\n",
    "# test is now 10% of the initial data set\n",
    "# validation is now 15% of the initial data set\n",
    "val, test = train_test_split(test, test_size=test_ratio/(test_ratio + validation_ratio))"
   ]
  },
  {
   "cell_type": "code",
   "execution_count": 9,
   "metadata": {},
   "outputs": [
    {
     "data": {
      "text/html": [
       "<div>\n",
       "<style scoped>\n",
       "    .dataframe tbody tr th:only-of-type {\n",
       "        vertical-align: middle;\n",
       "    }\n",
       "\n",
       "    .dataframe tbody tr th {\n",
       "        vertical-align: top;\n",
       "    }\n",
       "\n",
       "    .dataframe thead th {\n",
       "        text-align: right;\n",
       "    }\n",
       "</style>\n",
       "<table border=\"1\" class=\"dataframe\">\n",
       "  <thead>\n",
       "    <tr style=\"text-align: right;\">\n",
       "      <th></th>\n",
       "      <th>text</th>\n",
       "      <th>summary</th>\n",
       "    </tr>\n",
       "  </thead>\n",
       "  <tbody>\n",
       "    <tr>\n",
       "      <th>90805</th>\n",
       "      <td>'Bombshell' McGee Tells Sandra Bullock: 'I'm S...</td>\n",
       "      <td>– Michelle “Bombshell” McGee feels really bad ...</td>\n",
       "    </tr>\n",
       "    <tr>\n",
       "      <th>44752</th>\n",
       "      <td>two independent publicly available breast canc...</td>\n",
       "      <td>backgroundthe clinical impact of the biologica...</td>\n",
       "    </tr>\n",
       "    <tr>\n",
       "      <th>74363</th>\n",
       "      <td>SECTION 1. SHORT TITLE.\\n\\n    This Act may be...</td>\n",
       "      <td>Nonprofit Athletic Organization Protection Act...</td>\n",
       "    </tr>\n",
       "    <tr>\n",
       "      <th>22977</th>\n",
       "      <td>the advanced camera for surveys ( acs ; ford e...</td>\n",
       "      <td>the color - magnitude relation has been deter...</td>\n",
       "    </tr>\n",
       "    <tr>\n",
       "      <th>94567</th>\n",
       "      <td>the myeloproliferative neoplasms ( mpn , also ...</td>\n",
       "      <td>the myeloproliferative neoplasms ( mpn ) and m...</td>\n",
       "    </tr>\n",
       "    <tr>\n",
       "      <th>...</th>\n",
       "      <td>...</td>\n",
       "      <td>...</td>\n",
       "    </tr>\n",
       "    <tr>\n",
       "      <th>33502</th>\n",
       "      <td>DENVER - Two Denver police officers are under ...</td>\n",
       "      <td>– \"There was lots of drinking involved.\" That ...</td>\n",
       "    </tr>\n",
       "    <tr>\n",
       "      <th>39140</th>\n",
       "      <td>stochastic simulations have been an essential ...</td>\n",
       "      <td>in the presence of multiscale dynamics in a r...</td>\n",
       "    </tr>\n",
       "    <tr>\n",
       "      <th>35925</th>\n",
       "      <td>histologically , most thyroid carcinomas are o...</td>\n",
       "      <td>abstracthere we present the case of a 14-yr - ...</td>\n",
       "    </tr>\n",
       "    <tr>\n",
       "      <th>49540</th>\n",
       "      <td>25 back  b  b _ et al _ 2003 a * 499 * 603 bac...</td>\n",
       "      <td>two - particle correlations of identical char...</td>\n",
       "    </tr>\n",
       "    <tr>\n",
       "      <th>48503</th>\n",
       "      <td>a medical device is used to diagnose , treat ,...</td>\n",
       "      <td>purposemedical devices are used to monitor , r...</td>\n",
       "    </tr>\n",
       "  </tbody>\n",
       "</table>\n",
       "<p>78942 rows × 2 columns</p>\n",
       "</div>"
      ],
      "text/plain": [
       "                                                    text  \\\n",
       "90805  'Bombshell' McGee Tells Sandra Bullock: 'I'm S...   \n",
       "44752  two independent publicly available breast canc...   \n",
       "74363  SECTION 1. SHORT TITLE.\\n\\n    This Act may be...   \n",
       "22977  the advanced camera for surveys ( acs ; ford e...   \n",
       "94567  the myeloproliferative neoplasms ( mpn , also ...   \n",
       "...                                                  ...   \n",
       "33502  DENVER - Two Denver police officers are under ...   \n",
       "39140  stochastic simulations have been an essential ...   \n",
       "35925  histologically , most thyroid carcinomas are o...   \n",
       "49540  25 back  b  b _ et al _ 2003 a * 499 * 603 bac...   \n",
       "48503  a medical device is used to diagnose , treat ,...   \n",
       "\n",
       "                                                 summary  \n",
       "90805  – Michelle “Bombshell” McGee feels really bad ...  \n",
       "44752  backgroundthe clinical impact of the biologica...  \n",
       "74363  Nonprofit Athletic Organization Protection Act...  \n",
       "22977   the color - magnitude relation has been deter...  \n",
       "94567  the myeloproliferative neoplasms ( mpn ) and m...  \n",
       "...                                                  ...  \n",
       "33502  – \"There was lots of drinking involved.\" That ...  \n",
       "39140   in the presence of multiscale dynamics in a r...  \n",
       "35925  abstracthere we present the case of a 14-yr - ...  \n",
       "49540   two - particle correlations of identical char...  \n",
       "48503  purposemedical devices are used to monitor , r...  \n",
       "\n",
       "[78942 rows x 2 columns]"
      ]
     },
     "execution_count": 9,
     "metadata": {},
     "output_type": "execute_result"
    }
   ],
   "source": [
    "train"
   ]
  },
  {
   "cell_type": "code",
   "execution_count": null,
   "metadata": {},
   "outputs": [],
   "source": []
  }
 ],
 "metadata": {
  "kernelspec": {
   "display_name": "pydata",
   "language": "python",
   "name": "python3"
  },
  "language_info": {
   "codemirror_mode": {
    "name": "ipython",
    "version": 3
   },
   "file_extension": ".py",
   "mimetype": "text/x-python",
   "name": "python",
   "nbconvert_exporter": "python",
   "pygments_lexer": "ipython3",
   "version": "3.11.7"
  }
 },
 "nbformat": 4,
 "nbformat_minor": 2
}
